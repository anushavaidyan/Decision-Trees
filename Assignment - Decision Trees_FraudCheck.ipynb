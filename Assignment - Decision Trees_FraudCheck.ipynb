{
 "cells": [
  {
   "cell_type": "code",
   "execution_count": 10,
   "id": "6746d43b",
   "metadata": {},
   "outputs": [],
   "source": [
    "#importing necessary libraries\n",
    "import pandas as pd\n",
    "import matplotlib.pyplot as plt\n",
    "from sklearn import datasets  \n",
    "import numpy as np\n",
    "from sklearn.model_selection import train_test_split\n",
    "from sklearn.tree import  DecisionTreeClassifier\n",
    "from sklearn import tree\n",
    "from sklearn.metrics import classification_report\n",
    "from sklearn import preprocessing\n",
    "\n",
    "df = pd.read_csv(\"Fraud_check.csv\")"
   ]
  },
  {
   "cell_type": "code",
   "execution_count": 11,
   "id": "c7e25269",
   "metadata": {},
   "outputs": [
    {
     "data": {
      "text/html": [
       "<div>\n",
       "<style scoped>\n",
       "    .dataframe tbody tr th:only-of-type {\n",
       "        vertical-align: middle;\n",
       "    }\n",
       "\n",
       "    .dataframe tbody tr th {\n",
       "        vertical-align: top;\n",
       "    }\n",
       "\n",
       "    .dataframe thead th {\n",
       "        text-align: right;\n",
       "    }\n",
       "</style>\n",
       "<table border=\"1\" class=\"dataframe\">\n",
       "  <thead>\n",
       "    <tr style=\"text-align: right;\">\n",
       "      <th></th>\n",
       "      <th>Undergrad</th>\n",
       "      <th>Marital.Status</th>\n",
       "      <th>Taxable.Income</th>\n",
       "      <th>City.Population</th>\n",
       "      <th>Work.Experience</th>\n",
       "      <th>Urban</th>\n",
       "    </tr>\n",
       "  </thead>\n",
       "  <tbody>\n",
       "    <tr>\n",
       "      <th>0</th>\n",
       "      <td>NO</td>\n",
       "      <td>Single</td>\n",
       "      <td>68833</td>\n",
       "      <td>50047</td>\n",
       "      <td>10</td>\n",
       "      <td>YES</td>\n",
       "    </tr>\n",
       "    <tr>\n",
       "      <th>1</th>\n",
       "      <td>YES</td>\n",
       "      <td>Divorced</td>\n",
       "      <td>33700</td>\n",
       "      <td>134075</td>\n",
       "      <td>18</td>\n",
       "      <td>YES</td>\n",
       "    </tr>\n",
       "    <tr>\n",
       "      <th>2</th>\n",
       "      <td>NO</td>\n",
       "      <td>Married</td>\n",
       "      <td>36925</td>\n",
       "      <td>160205</td>\n",
       "      <td>30</td>\n",
       "      <td>YES</td>\n",
       "    </tr>\n",
       "    <tr>\n",
       "      <th>3</th>\n",
       "      <td>YES</td>\n",
       "      <td>Single</td>\n",
       "      <td>50190</td>\n",
       "      <td>193264</td>\n",
       "      <td>15</td>\n",
       "      <td>YES</td>\n",
       "    </tr>\n",
       "    <tr>\n",
       "      <th>4</th>\n",
       "      <td>NO</td>\n",
       "      <td>Married</td>\n",
       "      <td>81002</td>\n",
       "      <td>27533</td>\n",
       "      <td>28</td>\n",
       "      <td>NO</td>\n",
       "    </tr>\n",
       "  </tbody>\n",
       "</table>\n",
       "</div>"
      ],
      "text/plain": [
       "  Undergrad Marital.Status  Taxable.Income  City.Population  Work.Experience  \\\n",
       "0        NO         Single           68833            50047               10   \n",
       "1       YES       Divorced           33700           134075               18   \n",
       "2        NO        Married           36925           160205               30   \n",
       "3       YES         Single           50190           193264               15   \n",
       "4        NO        Married           81002            27533               28   \n",
       "\n",
       "  Urban  \n",
       "0   YES  \n",
       "1   YES  \n",
       "2   YES  \n",
       "3   YES  \n",
       "4    NO  "
      ]
     },
     "execution_count": 11,
     "metadata": {},
     "output_type": "execute_result"
    }
   ],
   "source": [
    "#Viewing top 5 rows of dataframe\n",
    "df.head()"
   ]
  },
  {
   "cell_type": "code",
   "execution_count": 12,
   "id": "840b0511",
   "metadata": {},
   "outputs": [
    {
     "data": {
      "text/html": [
       "<div>\n",
       "<style scoped>\n",
       "    .dataframe tbody tr th:only-of-type {\n",
       "        vertical-align: middle;\n",
       "    }\n",
       "\n",
       "    .dataframe tbody tr th {\n",
       "        vertical-align: top;\n",
       "    }\n",
       "\n",
       "    .dataframe thead th {\n",
       "        text-align: right;\n",
       "    }\n",
       "</style>\n",
       "<table border=\"1\" class=\"dataframe\">\n",
       "  <thead>\n",
       "    <tr style=\"text-align: right;\">\n",
       "      <th></th>\n",
       "      <th>Undergrad</th>\n",
       "      <th>Marital.Status</th>\n",
       "      <th>Taxable.Income</th>\n",
       "      <th>City.Population</th>\n",
       "      <th>Work.Experience</th>\n",
       "      <th>Urban</th>\n",
       "    </tr>\n",
       "  </thead>\n",
       "  <tbody>\n",
       "    <tr>\n",
       "      <th>595</th>\n",
       "      <td>YES</td>\n",
       "      <td>Divorced</td>\n",
       "      <td>76340</td>\n",
       "      <td>39492</td>\n",
       "      <td>7</td>\n",
       "      <td>YES</td>\n",
       "    </tr>\n",
       "    <tr>\n",
       "      <th>596</th>\n",
       "      <td>YES</td>\n",
       "      <td>Divorced</td>\n",
       "      <td>69967</td>\n",
       "      <td>55369</td>\n",
       "      <td>2</td>\n",
       "      <td>YES</td>\n",
       "    </tr>\n",
       "    <tr>\n",
       "      <th>597</th>\n",
       "      <td>NO</td>\n",
       "      <td>Divorced</td>\n",
       "      <td>47334</td>\n",
       "      <td>154058</td>\n",
       "      <td>0</td>\n",
       "      <td>YES</td>\n",
       "    </tr>\n",
       "    <tr>\n",
       "      <th>598</th>\n",
       "      <td>YES</td>\n",
       "      <td>Married</td>\n",
       "      <td>98592</td>\n",
       "      <td>180083</td>\n",
       "      <td>17</td>\n",
       "      <td>NO</td>\n",
       "    </tr>\n",
       "    <tr>\n",
       "      <th>599</th>\n",
       "      <td>NO</td>\n",
       "      <td>Divorced</td>\n",
       "      <td>96519</td>\n",
       "      <td>158137</td>\n",
       "      <td>16</td>\n",
       "      <td>NO</td>\n",
       "    </tr>\n",
       "  </tbody>\n",
       "</table>\n",
       "</div>"
      ],
      "text/plain": [
       "    Undergrad Marital.Status  Taxable.Income  City.Population  \\\n",
       "595       YES       Divorced           76340            39492   \n",
       "596       YES       Divorced           69967            55369   \n",
       "597        NO       Divorced           47334           154058   \n",
       "598       YES        Married           98592           180083   \n",
       "599        NO       Divorced           96519           158137   \n",
       "\n",
       "     Work.Experience Urban  \n",
       "595                7   YES  \n",
       "596                2   YES  \n",
       "597                0   YES  \n",
       "598               17    NO  \n",
       "599               16    NO  "
      ]
     },
     "execution_count": 12,
     "metadata": {},
     "output_type": "execute_result"
    }
   ],
   "source": [
    "df.tail()"
   ]
  },
  {
   "cell_type": "code",
   "execution_count": 13,
   "id": "33649a0b",
   "metadata": {},
   "outputs": [],
   "source": [
    "#Creating dummy vairables for ['Undergrad','Marital.Status','Urban'] dropping first dummy variable\n",
    "df=pd.get_dummies(df,columns=['Undergrad','Marital.Status','Urban'], drop_first=True)"
   ]
  },
  {
   "cell_type": "code",
   "execution_count": 14,
   "id": "a7bc0c32",
   "metadata": {},
   "outputs": [],
   "source": [
    "#Creating new cols TaxInc and dividing 'Taxable.Income' cols on the basis of [10002,30000,99620] for Risky and Good\n",
    "df[\"TaxInc\"] = pd.cut(df[\"Taxable.Income\"], bins = [10002,30000,99620], labels = [\"Risky\", \"Good\"])"
   ]
  },
  {
   "cell_type": "code",
   "execution_count": 15,
   "id": "0b4107e9",
   "metadata": {},
   "outputs": [
    {
     "name": "stdout",
     "output_type": "stream",
     "text": [
      "     Taxable.Income  City.Population  Work.Experience  Undergrad_YES  \\\n",
      "0             68833            50047               10              0   \n",
      "1             33700           134075               18              1   \n",
      "2             36925           160205               30              0   \n",
      "3             50190           193264               15              1   \n",
      "4             81002            27533               28              0   \n",
      "..              ...              ...              ...            ...   \n",
      "595           76340            39492                7              1   \n",
      "596           69967            55369                2              1   \n",
      "597           47334           154058                0              0   \n",
      "598           98592           180083               17              1   \n",
      "599           96519           158137               16              0   \n",
      "\n",
      "     Marital.Status_Married  Marital.Status_Single  Urban_YES TaxInc  \n",
      "0                         0                      1          1   Good  \n",
      "1                         0                      0          1   Good  \n",
      "2                         1                      0          1   Good  \n",
      "3                         0                      1          1   Good  \n",
      "4                         1                      0          0   Good  \n",
      "..                      ...                    ...        ...    ...  \n",
      "595                       0                      0          1   Good  \n",
      "596                       0                      0          1   Good  \n",
      "597                       0                      0          1   Good  \n",
      "598                       1                      0          0   Good  \n",
      "599                       0                      0          0   Good  \n",
      "\n",
      "[600 rows x 8 columns]\n"
     ]
    }
   ],
   "source": [
    "print(df)"
   ]
  },
  {
   "cell_type": "markdown",
   "id": "ee9b0a70",
   "metadata": {},
   "source": [
    "## Lets assume: taxable_income <= 30000 as “Risky=0” and others are “Good=1”"
   ]
  },
  {
   "cell_type": "code",
   "execution_count": 16,
   "id": "9db4f652",
   "metadata": {},
   "outputs": [],
   "source": [
    "#After creation of new col. TaxInc also made its dummies var concating right side of df\n",
    "df = pd.get_dummies(df,columns = [\"TaxInc\"],drop_first=True)"
   ]
  },
  {
   "cell_type": "code",
   "execution_count": 17,
   "id": "ea64ce00",
   "metadata": {},
   "outputs": [
    {
     "data": {
      "text/html": [
       "<div>\n",
       "<style scoped>\n",
       "    .dataframe tbody tr th:only-of-type {\n",
       "        vertical-align: middle;\n",
       "    }\n",
       "\n",
       "    .dataframe tbody tr th {\n",
       "        vertical-align: top;\n",
       "    }\n",
       "\n",
       "    .dataframe thead th {\n",
       "        text-align: right;\n",
       "    }\n",
       "</style>\n",
       "<table border=\"1\" class=\"dataframe\">\n",
       "  <thead>\n",
       "    <tr style=\"text-align: right;\">\n",
       "      <th></th>\n",
       "      <th>Taxable.Income</th>\n",
       "      <th>City.Population</th>\n",
       "      <th>Work.Experience</th>\n",
       "      <th>Undergrad_YES</th>\n",
       "      <th>Marital.Status_Married</th>\n",
       "      <th>Marital.Status_Single</th>\n",
       "      <th>Urban_YES</th>\n",
       "      <th>TaxInc_Good</th>\n",
       "    </tr>\n",
       "  </thead>\n",
       "  <tbody>\n",
       "    <tr>\n",
       "      <th>590</th>\n",
       "      <td>43018</td>\n",
       "      <td>85195</td>\n",
       "      <td>14</td>\n",
       "      <td>0</td>\n",
       "      <td>1</td>\n",
       "      <td>0</td>\n",
       "      <td>1</td>\n",
       "      <td>1</td>\n",
       "    </tr>\n",
       "    <tr>\n",
       "      <th>591</th>\n",
       "      <td>27394</td>\n",
       "      <td>132859</td>\n",
       "      <td>18</td>\n",
       "      <td>1</td>\n",
       "      <td>0</td>\n",
       "      <td>1</td>\n",
       "      <td>1</td>\n",
       "      <td>0</td>\n",
       "    </tr>\n",
       "    <tr>\n",
       "      <th>592</th>\n",
       "      <td>68152</td>\n",
       "      <td>75143</td>\n",
       "      <td>16</td>\n",
       "      <td>1</td>\n",
       "      <td>0</td>\n",
       "      <td>1</td>\n",
       "      <td>0</td>\n",
       "      <td>1</td>\n",
       "    </tr>\n",
       "    <tr>\n",
       "      <th>593</th>\n",
       "      <td>84775</td>\n",
       "      <td>131963</td>\n",
       "      <td>10</td>\n",
       "      <td>0</td>\n",
       "      <td>0</td>\n",
       "      <td>0</td>\n",
       "      <td>1</td>\n",
       "      <td>1</td>\n",
       "    </tr>\n",
       "    <tr>\n",
       "      <th>594</th>\n",
       "      <td>47364</td>\n",
       "      <td>97526</td>\n",
       "      <td>9</td>\n",
       "      <td>0</td>\n",
       "      <td>1</td>\n",
       "      <td>0</td>\n",
       "      <td>1</td>\n",
       "      <td>1</td>\n",
       "    </tr>\n",
       "    <tr>\n",
       "      <th>595</th>\n",
       "      <td>76340</td>\n",
       "      <td>39492</td>\n",
       "      <td>7</td>\n",
       "      <td>1</td>\n",
       "      <td>0</td>\n",
       "      <td>0</td>\n",
       "      <td>1</td>\n",
       "      <td>1</td>\n",
       "    </tr>\n",
       "    <tr>\n",
       "      <th>596</th>\n",
       "      <td>69967</td>\n",
       "      <td>55369</td>\n",
       "      <td>2</td>\n",
       "      <td>1</td>\n",
       "      <td>0</td>\n",
       "      <td>0</td>\n",
       "      <td>1</td>\n",
       "      <td>1</td>\n",
       "    </tr>\n",
       "    <tr>\n",
       "      <th>597</th>\n",
       "      <td>47334</td>\n",
       "      <td>154058</td>\n",
       "      <td>0</td>\n",
       "      <td>0</td>\n",
       "      <td>0</td>\n",
       "      <td>0</td>\n",
       "      <td>1</td>\n",
       "      <td>1</td>\n",
       "    </tr>\n",
       "    <tr>\n",
       "      <th>598</th>\n",
       "      <td>98592</td>\n",
       "      <td>180083</td>\n",
       "      <td>17</td>\n",
       "      <td>1</td>\n",
       "      <td>1</td>\n",
       "      <td>0</td>\n",
       "      <td>0</td>\n",
       "      <td>1</td>\n",
       "    </tr>\n",
       "    <tr>\n",
       "      <th>599</th>\n",
       "      <td>96519</td>\n",
       "      <td>158137</td>\n",
       "      <td>16</td>\n",
       "      <td>0</td>\n",
       "      <td>0</td>\n",
       "      <td>0</td>\n",
       "      <td>0</td>\n",
       "      <td>1</td>\n",
       "    </tr>\n",
       "  </tbody>\n",
       "</table>\n",
       "</div>"
      ],
      "text/plain": [
       "     Taxable.Income  City.Population  Work.Experience  Undergrad_YES  \\\n",
       "590           43018            85195               14              0   \n",
       "591           27394           132859               18              1   \n",
       "592           68152            75143               16              1   \n",
       "593           84775           131963               10              0   \n",
       "594           47364            97526                9              0   \n",
       "595           76340            39492                7              1   \n",
       "596           69967            55369                2              1   \n",
       "597           47334           154058                0              0   \n",
       "598           98592           180083               17              1   \n",
       "599           96519           158137               16              0   \n",
       "\n",
       "     Marital.Status_Married  Marital.Status_Single  Urban_YES  TaxInc_Good  \n",
       "590                       1                      0          1            1  \n",
       "591                       0                      1          1            0  \n",
       "592                       0                      1          0            1  \n",
       "593                       0                      0          1            1  \n",
       "594                       1                      0          1            1  \n",
       "595                       0                      0          1            1  \n",
       "596                       0                      0          1            1  \n",
       "597                       0                      0          1            1  \n",
       "598                       1                      0          0            1  \n",
       "599                       0                      0          0            1  "
      ]
     },
     "execution_count": 17,
     "metadata": {},
     "output_type": "execute_result"
    }
   ],
   "source": [
    "#Viewing buttom 10 observations\n",
    "df.tail(10)"
   ]
  },
  {
   "cell_type": "code",
   "execution_count": 18,
   "id": "d7ea5598",
   "metadata": {},
   "outputs": [
    {
     "data": {
      "text/plain": [
       "<seaborn.axisgrid.PairGrid at 0x146d9ced3d0>"
      ]
     },
     "execution_count": 18,
     "metadata": {},
     "output_type": "execute_result"
    }
   ],
   "source": [
    "# let's plot pair plot to visualise the attributes all at once\n",
    "import seaborn as sns\n",
    "sns.pairplot(data=df, hue = 'TaxInc_Good')"
   ]
  },
  {
   "cell_type": "code",
   "execution_count": 19,
   "id": "d257578f",
   "metadata": {},
   "outputs": [],
   "source": [
    "# Normalization function \n",
    "def norm_func(i):\n",
    "    x = (i-i.min())/(i.max()-i.min())\n",
    "    return (x)"
   ]
  },
  {
   "cell_type": "code",
   "execution_count": 20,
   "id": "89867f88",
   "metadata": {},
   "outputs": [
    {
     "data": {
      "text/html": [
       "<div>\n",
       "<style scoped>\n",
       "    .dataframe tbody tr th:only-of-type {\n",
       "        vertical-align: middle;\n",
       "    }\n",
       "\n",
       "    .dataframe tbody tr th {\n",
       "        vertical-align: top;\n",
       "    }\n",
       "\n",
       "    .dataframe thead th {\n",
       "        text-align: right;\n",
       "    }\n",
       "</style>\n",
       "<table border=\"1\" class=\"dataframe\">\n",
       "  <thead>\n",
       "    <tr style=\"text-align: right;\">\n",
       "      <th></th>\n",
       "      <th>City.Population</th>\n",
       "      <th>Work.Experience</th>\n",
       "      <th>Undergrad_YES</th>\n",
       "      <th>Marital.Status_Married</th>\n",
       "      <th>Marital.Status_Single</th>\n",
       "      <th>Urban_YES</th>\n",
       "      <th>TaxInc_Good</th>\n",
       "    </tr>\n",
       "  </thead>\n",
       "  <tbody>\n",
       "    <tr>\n",
       "      <th>590</th>\n",
       "      <td>0.341473</td>\n",
       "      <td>0.466667</td>\n",
       "      <td>0.0</td>\n",
       "      <td>1.0</td>\n",
       "      <td>0.0</td>\n",
       "      <td>1.0</td>\n",
       "      <td>1.0</td>\n",
       "    </tr>\n",
       "    <tr>\n",
       "      <th>591</th>\n",
       "      <td>0.615406</td>\n",
       "      <td>0.600000</td>\n",
       "      <td>1.0</td>\n",
       "      <td>0.0</td>\n",
       "      <td>1.0</td>\n",
       "      <td>1.0</td>\n",
       "      <td>0.0</td>\n",
       "    </tr>\n",
       "    <tr>\n",
       "      <th>592</th>\n",
       "      <td>0.283703</td>\n",
       "      <td>0.533333</td>\n",
       "      <td>1.0</td>\n",
       "      <td>0.0</td>\n",
       "      <td>1.0</td>\n",
       "      <td>0.0</td>\n",
       "      <td>1.0</td>\n",
       "    </tr>\n",
       "    <tr>\n",
       "      <th>593</th>\n",
       "      <td>0.610256</td>\n",
       "      <td>0.333333</td>\n",
       "      <td>0.0</td>\n",
       "      <td>0.0</td>\n",
       "      <td>0.0</td>\n",
       "      <td>1.0</td>\n",
       "      <td>1.0</td>\n",
       "    </tr>\n",
       "    <tr>\n",
       "      <th>594</th>\n",
       "      <td>0.412341</td>\n",
       "      <td>0.300000</td>\n",
       "      <td>0.0</td>\n",
       "      <td>1.0</td>\n",
       "      <td>0.0</td>\n",
       "      <td>1.0</td>\n",
       "      <td>1.0</td>\n",
       "    </tr>\n",
       "    <tr>\n",
       "      <th>595</th>\n",
       "      <td>0.078811</td>\n",
       "      <td>0.233333</td>\n",
       "      <td>1.0</td>\n",
       "      <td>0.0</td>\n",
       "      <td>0.0</td>\n",
       "      <td>1.0</td>\n",
       "      <td>1.0</td>\n",
       "    </tr>\n",
       "    <tr>\n",
       "      <th>596</th>\n",
       "      <td>0.170058</td>\n",
       "      <td>0.066667</td>\n",
       "      <td>1.0</td>\n",
       "      <td>0.0</td>\n",
       "      <td>0.0</td>\n",
       "      <td>1.0</td>\n",
       "      <td>1.0</td>\n",
       "    </tr>\n",
       "    <tr>\n",
       "      <th>597</th>\n",
       "      <td>0.737240</td>\n",
       "      <td>0.000000</td>\n",
       "      <td>0.0</td>\n",
       "      <td>0.0</td>\n",
       "      <td>0.0</td>\n",
       "      <td>1.0</td>\n",
       "      <td>1.0</td>\n",
       "    </tr>\n",
       "    <tr>\n",
       "      <th>598</th>\n",
       "      <td>0.886810</td>\n",
       "      <td>0.566667</td>\n",
       "      <td>1.0</td>\n",
       "      <td>1.0</td>\n",
       "      <td>0.0</td>\n",
       "      <td>0.0</td>\n",
       "      <td>1.0</td>\n",
       "    </tr>\n",
       "    <tr>\n",
       "      <th>599</th>\n",
       "      <td>0.760683</td>\n",
       "      <td>0.533333</td>\n",
       "      <td>0.0</td>\n",
       "      <td>0.0</td>\n",
       "      <td>0.0</td>\n",
       "      <td>0.0</td>\n",
       "      <td>1.0</td>\n",
       "    </tr>\n",
       "  </tbody>\n",
       "</table>\n",
       "</div>"
      ],
      "text/plain": [
       "     City.Population  Work.Experience  Undergrad_YES  Marital.Status_Married  \\\n",
       "590         0.341473         0.466667            0.0                     1.0   \n",
       "591         0.615406         0.600000            1.0                     0.0   \n",
       "592         0.283703         0.533333            1.0                     0.0   \n",
       "593         0.610256         0.333333            0.0                     0.0   \n",
       "594         0.412341         0.300000            0.0                     1.0   \n",
       "595         0.078811         0.233333            1.0                     0.0   \n",
       "596         0.170058         0.066667            1.0                     0.0   \n",
       "597         0.737240         0.000000            0.0                     0.0   \n",
       "598         0.886810         0.566667            1.0                     1.0   \n",
       "599         0.760683         0.533333            0.0                     0.0   \n",
       "\n",
       "     Marital.Status_Single  Urban_YES  TaxInc_Good  \n",
       "590                    0.0        1.0          1.0  \n",
       "591                    1.0        1.0          0.0  \n",
       "592                    1.0        0.0          1.0  \n",
       "593                    0.0        1.0          1.0  \n",
       "594                    0.0        1.0          1.0  \n",
       "595                    0.0        1.0          1.0  \n",
       "596                    0.0        1.0          1.0  \n",
       "597                    0.0        1.0          1.0  \n",
       "598                    0.0        0.0          1.0  \n",
       "599                    0.0        0.0          1.0  "
      ]
     },
     "execution_count": 20,
     "metadata": {},
     "output_type": "execute_result"
    }
   ],
   "source": [
    "# Normalized data frame (considering the numerical part of data)\n",
    "df_norm = norm_func(df.iloc[:,1:])\n",
    "df_norm.tail(10)"
   ]
  },
  {
   "cell_type": "code",
   "execution_count": 21,
   "id": "222ff4b3",
   "metadata": {},
   "outputs": [],
   "source": [
    "# Declaring features & target\n",
    "X = df_norm.drop(['TaxInc_Good'], axis=1)\n",
    "y = df_norm['TaxInc_Good']"
   ]
  },
  {
   "cell_type": "code",
   "execution_count": 22,
   "id": "da480086",
   "metadata": {},
   "outputs": [],
   "source": [
    "from sklearn.model_selection import train_test_split"
   ]
  },
  {
   "cell_type": "code",
   "execution_count": 23,
   "id": "337f5034",
   "metadata": {},
   "outputs": [],
   "source": [
    "# Splitting data into train & test\n",
    "Xtrain, Xtest, ytrain, ytest = train_test_split(X, y, test_size=0.2, random_state=0)"
   ]
  },
  {
   "cell_type": "code",
   "execution_count": 24,
   "id": "1c017c9a",
   "metadata": {},
   "outputs": [],
   "source": [
    "##Converting the Taxable income variable to bucketing. \n",
    "df_norm[\"income\"]=\"<=30000\"\n",
    "df_norm.loc[df[\"Taxable.Income\"]>=30000,\"income\"]=\"Good\"\n",
    "df_norm.loc[df[\"Taxable.Income\"]<=30000,\"income\"]=\"Risky\""
   ]
  },
  {
   "cell_type": "code",
   "execution_count": 25,
   "id": "e9b6dbda",
   "metadata": {},
   "outputs": [],
   "source": [
    "##Droping the Taxable income variable\n",
    "df.drop([\"Taxable.Income\"],axis=1,inplace=True)"
   ]
  },
  {
   "cell_type": "code",
   "execution_count": 26,
   "id": "f281b8fa",
   "metadata": {},
   "outputs": [],
   "source": [
    "df.rename(columns={\"Undergrad\":\"undergrad\",\"Marital.Status\":\"marital\",\"City.Population\":\"population\",\"Work.Experience\":\"experience\",\"Urban\":\"urban\"},inplace=True)\n",
    "## As we are getting error as \"ValueError: could not convert string to float: 'YES'\".\n",
    "## Model.fit doesnt not consider String. So, we encode"
   ]
  },
  {
   "cell_type": "code",
   "execution_count": 27,
   "id": "3f44de9b",
   "metadata": {},
   "outputs": [],
   "source": [
    "from sklearn import preprocessing\n",
    "le=preprocessing.LabelEncoder()\n",
    "for column_name in df.columns:\n",
    "    if df[column_name].dtype == object:\n",
    "        df[column_name] = le.fit_transform(df[column_name])\n",
    "    else:\n",
    "        pass"
   ]
  },
  {
   "cell_type": "code",
   "execution_count": 28,
   "id": "d713e287",
   "metadata": {},
   "outputs": [],
   "source": [
    "##Splitting the data into featuers and labels\n",
    "features = df.iloc[:,0:5]\n",
    "labels = df.iloc[:,5]"
   ]
  },
  {
   "cell_type": "code",
   "execution_count": 29,
   "id": "1aa5d537",
   "metadata": {},
   "outputs": [],
   "source": [
    "## Collecting the column names\n",
    "colnames = list(df.columns)\n",
    "predictors = colnames[0:5]\n",
    "target = colnames[5]\n",
    "##Splitting the data into train and test"
   ]
  },
  {
   "cell_type": "code",
   "execution_count": 30,
   "id": "53630138",
   "metadata": {},
   "outputs": [],
   "source": [
    "from sklearn.model_selection import train_test_split\n",
    "x_train,x_test,y_train,y_test = train_test_split(features,labels,test_size = 0.2,stratify = labels)"
   ]
  },
  {
   "cell_type": "code",
   "execution_count": 31,
   "id": "d2062317",
   "metadata": {},
   "outputs": [
    {
     "name": "stderr",
     "output_type": "stream",
     "text": [
      "C:\\Anaconda\\lib\\site-packages\\sklearn\\ensemble\\_forest.py:560: UserWarning: Some inputs do not have OOB scores. This probably means too few trees were used to compute any reliable OOB estimates.\n",
      "  warn(\n"
     ]
    },
    {
     "data": {
      "text/plain": [
       "RandomForestClassifier(criterion='entropy', n_estimators=15, n_jobs=3,\n",
       "                       oob_score=True)"
      ]
     },
     "execution_count": 31,
     "metadata": {},
     "output_type": "execute_result"
    }
   ],
   "source": [
    "##Model building\n",
    "from sklearn.ensemble import RandomForestClassifier as RF\n",
    "model = RF(n_jobs = 3,n_estimators = 15, oob_score = True, criterion = \"entropy\")\n",
    "model.fit(x_train,y_train)"
   ]
  },
  {
   "cell_type": "code",
   "execution_count": 32,
   "id": "a38954f7",
   "metadata": {},
   "outputs": [
    {
     "name": "stderr",
     "output_type": "stream",
     "text": [
      "C:\\Anaconda\\lib\\site-packages\\sklearn\\utils\\deprecation.py:103: FutureWarning: Attribute `n_features_` was deprecated in version 1.0 and will be removed in 1.2. Use `n_features_in_` instead.\n",
      "  warnings.warn(msg, category=FutureWarning)\n"
     ]
    },
    {
     "data": {
      "text/plain": [
       "2"
      ]
     },
     "execution_count": 32,
     "metadata": {},
     "output_type": "execute_result"
    }
   ],
   "source": [
    "model.estimators_\n",
    "model.classes_\n",
    "model.n_features_\n",
    "model.n_classes_"
   ]
  },
  {
   "cell_type": "code",
   "execution_count": 33,
   "id": "92a5b1de",
   "metadata": {},
   "outputs": [
    {
     "data": {
      "text/plain": [
       "1"
      ]
     },
     "execution_count": 33,
     "metadata": {},
     "output_type": "execute_result"
    }
   ],
   "source": [
    "model.n_outputs_"
   ]
  },
  {
   "cell_type": "code",
   "execution_count": 34,
   "id": "2d3757a8",
   "metadata": {},
   "outputs": [
    {
     "data": {
      "text/plain": [
       "0.525"
      ]
     },
     "execution_count": 34,
     "metadata": {},
     "output_type": "execute_result"
    }
   ],
   "source": [
    "model.oob_score_\n",
    "###74.7833%"
   ]
  },
  {
   "cell_type": "code",
   "execution_count": 35,
   "id": "e9bb44ff",
   "metadata": {},
   "outputs": [],
   "source": [
    "##Predictions on train data\n",
    "prediction = model.predict(x_train)"
   ]
  },
  {
   "cell_type": "code",
   "execution_count": 36,
   "id": "7016bc9e",
   "metadata": {},
   "outputs": [],
   "source": [
    "##Accuracy\n",
    "# For accuracy \n",
    "from sklearn.metrics import accuracy_score\n",
    "accuracy = accuracy_score(y_train,prediction)\n",
    "##98.33%"
   ]
  },
  {
   "cell_type": "code",
   "execution_count": 37,
   "id": "865056f7",
   "metadata": {},
   "outputs": [
    {
     "data": {
      "text/plain": [
       "0.9916666666666667"
      ]
     },
     "execution_count": 37,
     "metadata": {},
     "output_type": "execute_result"
    }
   ],
   "source": [
    "np.mean(prediction == y_train)\n",
    "##98.33%"
   ]
  },
  {
   "cell_type": "code",
   "execution_count": 38,
   "id": "871bd143",
   "metadata": {},
   "outputs": [],
   "source": [
    "##Confusion matrix\n",
    "from sklearn.metrics import confusion_matrix\n",
    "confusion = confusion_matrix(y_train,prediction)"
   ]
  },
  {
   "cell_type": "code",
   "execution_count": 39,
   "id": "afb59630",
   "metadata": {},
   "outputs": [],
   "source": [
    "##Prediction on test data\n",
    "pred_test = model.predict(x_test)"
   ]
  },
  {
   "cell_type": "code",
   "execution_count": 40,
   "id": "1cdacb8a",
   "metadata": {},
   "outputs": [],
   "source": [
    "##Accuracy\n",
    "acc_test =accuracy_score(y_test,pred_test)\n",
    "##78.333%"
   ]
  },
  {
   "cell_type": "code",
   "execution_count": 42,
   "id": "c54e637d",
   "metadata": {},
   "outputs": [
    {
     "name": "stdout",
     "output_type": "stream",
     "text": [
      "Collecting pydotplus\n",
      "  Downloading pydotplus-2.0.2.tar.gz (278 kB)\n",
      "     -------------------------------------- 278.7/278.7 kB 3.4 MB/s eta 0:00:00\n",
      "  Preparing metadata (setup.py): started\n",
      "  Preparing metadata (setup.py): finished with status 'done'\n",
      "Requirement already satisfied: pyparsing>=2.0.1 in c:\\anaconda\\lib\\site-packages (from pydotplus) (3.0.9)\n",
      "Building wheels for collected packages: pydotplus\n",
      "  Building wheel for pydotplus (setup.py): started\n",
      "  Building wheel for pydotplus (setup.py): finished with status 'done'\n",
      "  Created wheel for pydotplus: filename=pydotplus-2.0.2-py3-none-any.whl size=24554 sha256=f76f2ba933be1ac76155f06ebc963612a7a76d89d9e82183ed18be0ab1ade2af\n",
      "  Stored in directory: c:\\users\\anusha\\appdata\\local\\pip\\cache\\wheels\\89\\e5\\de\\6966007cf223872eedfbebbe0e074534e72e9128c8fd4b55eb\n",
      "Successfully built pydotplus\n",
      "Installing collected packages: pydotplus\n",
      "Successfully installed pydotplus-2.0.2\n"
     ]
    }
   ],
   "source": [
    "!pip install pydotplus"
   ]
  },
  {
   "cell_type": "code",
   "execution_count": 43,
   "id": "404ec7e1",
   "metadata": {},
   "outputs": [],
   "source": [
    "## In random forest we can plot a Decision tree present in Random forest\n",
    "from sklearn.tree import export_graphviz\n",
    "import pydotplus\n",
    "from six import StringIO"
   ]
  },
  {
   "cell_type": "code",
   "execution_count": 44,
   "id": "3b9f83a2",
   "metadata": {},
   "outputs": [],
   "source": [
    "tree = model.estimators_[5]"
   ]
  },
  {
   "cell_type": "code",
   "execution_count": 45,
   "id": "a7897ba1",
   "metadata": {},
   "outputs": [],
   "source": [
    "dot_data = StringIO()\n",
    "export_graphviz(tree,out_file = dot_data, filled = True,rounded = True, feature_names = predictors ,class_names = target,impurity =False)\n"
   ]
  },
  {
   "cell_type": "code",
   "execution_count": 46,
   "id": "cfa179b4",
   "metadata": {},
   "outputs": [],
   "source": [
    "graph = pydotplus.graph_from_dot_data(dot_data.getvalue())"
   ]
  },
  {
   "cell_type": "markdown",
   "id": "7448ac26",
   "metadata": {},
   "source": [
    "## Bulding Decision Tree Classifier using Entropy Criteria"
   ]
  },
  {
   "cell_type": "code",
   "execution_count": 47,
   "id": "906d696f",
   "metadata": {},
   "outputs": [
    {
     "data": {
      "text/plain": [
       "DecisionTreeClassifier(criterion='entropy', max_depth=3)"
      ]
     },
     "execution_count": 47,
     "metadata": {},
     "output_type": "execute_result"
    }
   ],
   "source": [
    "model = DecisionTreeClassifier(criterion = 'entropy',max_depth=3)\n",
    "model.fit(x_train,y_train)"
   ]
  },
  {
   "cell_type": "code",
   "execution_count": 55,
   "id": "b96ff860",
   "metadata": {},
   "outputs": [],
   "source": [
    "from sklearn import tree"
   ]
  },
  {
   "cell_type": "code",
   "execution_count": 56,
   "id": "6511f60b",
   "metadata": {},
   "outputs": [],
   "source": [
    "#PLot the decision tree\n",
    "tree.plot_tree(model);"
   ]
  },
  {
   "cell_type": "code",
   "execution_count": 50,
   "id": "16430297",
   "metadata": {},
   "outputs": [
    {
     "data": {
      "text/plain": [
       "['population',\n",
       " 'experience',\n",
       " 'Undergrad_YES',\n",
       " 'Marital.Status_Married',\n",
       " 'Marital.Status_Single',\n",
       " 'Urban_YES',\n",
       " 'TaxInc_Good']"
      ]
     },
     "execution_count": 50,
     "metadata": {},
     "output_type": "execute_result"
    }
   ],
   "source": [
    "colnames = list(df.columns)\n",
    "colnames"
   ]
  },
  {
   "cell_type": "code",
   "execution_count": 57,
   "id": "99ab2a57",
   "metadata": {},
   "outputs": [],
   "source": [
    "fn=['population','experience','Undergrad_YES','Marital.Status_Married','Marital.Status_Single','Urban_YES']\n",
    "cn=['1', '0']\n",
    "fig, axes = plt.subplots(nrows = 1,ncols = 1,figsize = (4,4), dpi=300)\n",
    "tree.plot_tree(model,\n",
    "               feature_names = fn, \n",
    "               class_names=cn,\n",
    "               filled = True);"
   ]
  },
  {
   "cell_type": "code",
   "execution_count": 58,
   "id": "a3b79070",
   "metadata": {},
   "outputs": [
    {
     "data": {
      "text/plain": [
       "0    83\n",
       "1    37\n",
       "dtype: int64"
      ]
     },
     "execution_count": 58,
     "metadata": {},
     "output_type": "execute_result"
    }
   ],
   "source": [
    "#Predicting on test data\n",
    "preds = model.predict(x_test) # predicting on test data set \n",
    "pd.Series(preds).value_counts() # getting the count of each category"
   ]
  },
  {
   "cell_type": "code",
   "execution_count": 59,
   "id": "75fbcad4",
   "metadata": {},
   "outputs": [
    {
     "data": {
      "text/plain": [
       "array([0, 0, 1, 1, 0, 0, 1, 0, 0, 1, 0, 0, 0, 1, 0, 0, 0, 1, 0, 0, 0, 1,\n",
       "       0, 1, 0, 0, 0, 0, 0, 0, 0, 0, 0, 0, 0, 0, 1, 1, 0, 0, 1, 0, 0, 1,\n",
       "       0, 1, 0, 1, 1, 0, 1, 0, 0, 0, 0, 0, 0, 0, 0, 0, 1, 0, 0, 0, 1, 0,\n",
       "       1, 0, 0, 1, 1, 0, 0, 1, 0, 0, 0, 1, 1, 0, 0, 0, 0, 0, 1, 0, 1, 1,\n",
       "       1, 1, 0, 0, 0, 0, 0, 0, 0, 0, 1, 1, 0, 0, 0, 0, 0, 1, 0, 0, 1, 0,\n",
       "       1, 0, 1, 0, 0, 0, 0, 0, 1, 1], dtype=uint8)"
      ]
     },
     "execution_count": 59,
     "metadata": {},
     "output_type": "execute_result"
    }
   ],
   "source": [
    "preds"
   ]
  },
  {
   "cell_type": "code",
   "execution_count": 60,
   "id": "eb876dc7",
   "metadata": {},
   "outputs": [
    {
     "data": {
      "text/html": [
       "<div>\n",
       "<style scoped>\n",
       "    .dataframe tbody tr th:only-of-type {\n",
       "        vertical-align: middle;\n",
       "    }\n",
       "\n",
       "    .dataframe tbody tr th {\n",
       "        vertical-align: top;\n",
       "    }\n",
       "\n",
       "    .dataframe thead th {\n",
       "        text-align: right;\n",
       "    }\n",
       "</style>\n",
       "<table border=\"1\" class=\"dataframe\">\n",
       "  <thead>\n",
       "    <tr style=\"text-align: right;\">\n",
       "      <th>col_0</th>\n",
       "      <th>0</th>\n",
       "      <th>1</th>\n",
       "    </tr>\n",
       "    <tr>\n",
       "      <th>Urban_YES</th>\n",
       "      <th></th>\n",
       "      <th></th>\n",
       "    </tr>\n",
       "  </thead>\n",
       "  <tbody>\n",
       "    <tr>\n",
       "      <th>0</th>\n",
       "      <td>43</td>\n",
       "      <td>17</td>\n",
       "    </tr>\n",
       "    <tr>\n",
       "      <th>1</th>\n",
       "      <td>40</td>\n",
       "      <td>20</td>\n",
       "    </tr>\n",
       "  </tbody>\n",
       "</table>\n",
       "</div>"
      ],
      "text/plain": [
       "col_0       0   1\n",
       "Urban_YES        \n",
       "0          43  17\n",
       "1          40  20"
      ]
     },
     "execution_count": 60,
     "metadata": {},
     "output_type": "execute_result"
    }
   ],
   "source": [
    "pd.crosstab(y_test,preds) # getting the 2 way table to understand the correct and wrong predictions"
   ]
  },
  {
   "cell_type": "code",
   "execution_count": 61,
   "id": "47b8f527",
   "metadata": {},
   "outputs": [
    {
     "data": {
      "text/plain": [
       "0.525"
      ]
     },
     "execution_count": 61,
     "metadata": {},
     "output_type": "execute_result"
    }
   ],
   "source": [
    "# Accuracy \n",
    "np.mean(preds==y_test)"
   ]
  },
  {
   "cell_type": "markdown",
   "id": "16f78f32",
   "metadata": {},
   "source": [
    "## Building Decision Tree Classifier (CART) using Gini Criteria"
   ]
  },
  {
   "cell_type": "code",
   "execution_count": 62,
   "id": "2da3ca0a",
   "metadata": {},
   "outputs": [],
   "source": [
    "from sklearn.tree import DecisionTreeClassifier\n",
    "model_gini = DecisionTreeClassifier(criterion='gini', max_depth=3)"
   ]
  },
  {
   "cell_type": "code",
   "execution_count": 63,
   "id": "a3b487af",
   "metadata": {},
   "outputs": [
    {
     "data": {
      "text/plain": [
       "DecisionTreeClassifier(max_depth=3)"
      ]
     },
     "execution_count": 63,
     "metadata": {},
     "output_type": "execute_result"
    }
   ],
   "source": [
    "model_gini.fit(x_train, y_train)"
   ]
  },
  {
   "cell_type": "code",
   "execution_count": 64,
   "id": "59276553",
   "metadata": {},
   "outputs": [
    {
     "data": {
      "text/plain": [
       "0.525"
      ]
     },
     "execution_count": 64,
     "metadata": {},
     "output_type": "execute_result"
    }
   ],
   "source": [
    "#Prediction and computing the accuracy\n",
    "pred=model.predict(x_test)\n",
    "np.mean(preds==y_test)"
   ]
  },
  {
   "cell_type": "markdown",
   "id": "474747ab",
   "metadata": {},
   "source": [
    "## Decision Tree Regression Example"
   ]
  },
  {
   "cell_type": "code",
   "execution_count": 65,
   "id": "b9a865d5",
   "metadata": {},
   "outputs": [],
   "source": [
    "# Decision Tree Regression\n",
    "from sklearn.tree import DecisionTreeRegressor"
   ]
  },
  {
   "cell_type": "code",
   "execution_count": 66,
   "id": "26eb4c40",
   "metadata": {},
   "outputs": [],
   "source": [
    "array = df.values\n",
    "X = array[:,0:3]\n",
    "y = array[:,3]"
   ]
  },
  {
   "cell_type": "code",
   "execution_count": 67,
   "id": "748455c6",
   "metadata": {},
   "outputs": [],
   "source": [
    "X_train, X_test, y_train, y_test = train_test_split(X, y, test_size=0.33, random_state=1)"
   ]
  },
  {
   "cell_type": "code",
   "execution_count": 68,
   "id": "19ca1967",
   "metadata": {},
   "outputs": [
    {
     "data": {
      "text/plain": [
       "DecisionTreeRegressor()"
      ]
     },
     "execution_count": 68,
     "metadata": {},
     "output_type": "execute_result"
    }
   ],
   "source": [
    "model = DecisionTreeRegressor()\n",
    "model.fit(X_train, y_train)"
   ]
  },
  {
   "cell_type": "code",
   "execution_count": 69,
   "id": "73acae41",
   "metadata": {},
   "outputs": [
    {
     "data": {
      "text/plain": [
       "-0.8931902985074629"
      ]
     },
     "execution_count": 69,
     "metadata": {},
     "output_type": "execute_result"
    }
   ],
   "source": [
    "#Find the accuracy\n",
    "model.score(X_test,y_test)"
   ]
  },
  {
   "cell_type": "code",
   "execution_count": null,
   "id": "02750771",
   "metadata": {},
   "outputs": [],
   "source": []
  }
 ],
 "metadata": {
  "kernelspec": {
   "display_name": "Python 3 (ipykernel)",
   "language": "python",
   "name": "python3"
  },
  "language_info": {
   "codemirror_mode": {
    "name": "ipython",
    "version": 3
   },
   "file_extension": ".py",
   "mimetype": "text/x-python",
   "name": "python",
   "nbconvert_exporter": "python",
   "pygments_lexer": "ipython3",
   "version": "3.9.13"
  }
 },
 "nbformat": 4,
 "nbformat_minor": 5
}
